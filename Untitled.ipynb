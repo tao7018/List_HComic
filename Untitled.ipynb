{
 "cells": [
  {
   "cell_type": "code",
   "execution_count": 29,
   "metadata": {
    "collapsed": false
   },
   "outputs": [
    {
     "name": "stdout",
     "output_type": "stream",
     "text": [
      "2015/12/02,03:16\n",
      "03:16\n"
     ]
    }
   ],
   "source": [
    "# -*- coding: utf-8 -*- \n",
    "import urllib , requests , sys ,string,time\n",
    "from bs4 import BeautifulSoup\n",
    "from bs4 import SoupStrainer\n",
    "from time import gmtime, strftime\n",
    "#爬comiclist\n",
    "#測試用：源五郎\n",
    "#fkey作者來源key.txt\n",
    "#fcomiclist結果key_comiclist.text\n",
    "\n",
    "fkey = open('key.txt', 'r')\n",
    "key = fkey.readline()\n",
    "fkey.close()\n",
    "\n",
    "'''\n",
    "print time.localtime(time.time())\n",
    "print  time.asctime( time.localtime(time.time()) )\n",
    "#print time.strptime(\"30 Nov 00\", \"%d %b %y\")   \n",
    "print gmtime()\n",
    "print strftime(\"%a, %d %b %Y %H:%M:%S +0000\", gmtime())\n",
    "#print time.localtime(time.time())\n",
    "print strftime(\"%a, %d %b %Y %H:%M:%S +0000\", time.localtime(time.time()))\n",
    "print strftime(\"%a, %d %b %Y %H:%M:%S +0000\")#'''\n",
    "print strftime(\"%Y/%m/%d,%H:%M\")\n",
    "print strftime(\"%H:%M\")"
   ]
  },
  {
   "cell_type": "code",
   "execution_count": null,
   "metadata": {
    "collapsed": true
   },
   "outputs": [],
   "source": []
  }
 ],
 "metadata": {
  "kernelspec": {
   "display_name": "Python 2",
   "language": "python",
   "name": "python2"
  },
  "language_info": {
   "codemirror_mode": {
    "name": "ipython",
    "version": 2
   },
   "file_extension": ".py",
   "mimetype": "text/x-python",
   "name": "python",
   "nbconvert_exporter": "python",
   "pygments_lexer": "ipython2",
   "version": "2.7.10"
  }
 },
 "nbformat": 4,
 "nbformat_minor": 0
}
