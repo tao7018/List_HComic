{
 "cells": [
  {
   "cell_type": "code",
   "execution_count": 37,
   "metadata": {
    "collapsed": false
   },
   "outputs": [
    {
     "name": "stdout",
     "output_type": "stream",
     "text": [
      "<span class=\"tab LPEXACT1\">し\n",
      "た\n",
      "い\n",
      "?</span>\n",
      "<span class=\"tab LPEXACT1\">るいさんのおっぱいのさらに奥</span>\n",
      "<span class=\"tab LPEXACT1\">し た い ? 3</span>\n",
      "<span class=\"tab LPEXACT1\">おっぱいで秘書艦ご指名ください</span>\n",
      "<span class=\"tab LPEXACT1\">先輩もおねぇさんもせーえきで待ってる</span>\n",
      "<span class=\"tab LPEXACT1\">欲情エロスーツ</span>\n",
      "<span class=\"tab LPEXACT1\">肉欲受け止めボディ</span>\n",
      "<span class=\"tab LPEXACT1\">落ちた聖女</span>\n",
      "<span class=\"tab LPEXACT1\">バイブでメルダを尋問してみた</span>\n",
      "<span class=\"tab LPEXACT1\">専用おっぱいナース2199</span>\n"
     ]
    }
   ],
   "source": [
    "import requests\n",
    "from bs4 import BeautifulSoup\n",
    "\n",
    "#爬doujinshi\n",
    "r = requests.get(\"http://www.doujinshi.org/?LANG=2\")\n",
    "res = requests.get(\"http://www.doujinshi.org/browse/author/3067/Mita-Kurumi/\")\n",
    "soup = BeautifulSoup(res.text)\n",
    "#print soup.text\n",
    "#print soup.select('.bookinfo')[0].text\n",
    "a = 0\n",
    "while a < 10:\n",
    "    #一組div含18tab\n",
    "    b = a * 18 + 3\n",
    "    print soup.select('.tab')[b]\n",
    "    a = a + 1\n"
   ]
  }
 ],
 "metadata": {
  "kernelspec": {
   "display_name": "Python 2",
   "language": "python",
   "name": "python2"
  },
  "language_info": {
   "codemirror_mode": {
    "name": "ipython",
    "version": 2
   },
   "file_extension": ".py",
   "mimetype": "text/x-python",
   "name": "python",
   "nbconvert_exporter": "python",
   "pygments_lexer": "ipython2",
   "version": "2.7.10"
  }
 },
 "nbformat": 4,
 "nbformat_minor": 0
}
