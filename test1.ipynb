{
 "cells": [
  {
   "cell_type": "code",
   "execution_count": 65,
   "metadata": {
    "collapsed": false
   },
   "outputs": [
    {
     "name": "stdout",
     "output_type": "stream",
     "text": [
      "A・L・L(アズマサワヨシ)\n",
      "A・L・L アズマサワヨシ <type 'unicode'>\n",
      "\\ /\n",
      "b2: <type 'unicode'>\n",
      "0 [[ %E5%96%94 ]][[ 喔 ]]\n",
      "1 [[ a ]][[ a ]]\n",
      "2 [[ s ]][[ s ]]\n",
      "3 [[ d ]][[ d ]]\n"
     ]
    },
    {
     "data": {
      "text/plain": [
       "\"\\n#\\xe7\\x95\\xb6sjis\\xe8\\xbc\\xb8\\xe5\\x87\\xbautf8\\xe7\\x9a\\x84url\\nkey2 = urllib.quote(key.decode('utf8').encode('sjis'))\\n#utf8\\xe7\\x9a\\x84url\\xe7\\xbf\\xbbsjis\\nkey3 = urllib.unquote(key2.decode('sjis').encode('utf8'))\\n#\""
      ]
     },
     "execution_count": 65,
     "metadata": {},
     "output_type": "execute_result"
    }
   ],
   "source": [
    "import urllib , requests , sys ,string ,time\n",
    "from bs4 import BeautifulSoup\n",
    "from bs4 import SoupStrainer\n",
    "\n",
    "#頁顯示數量\n",
    "pnum = 30\n",
    "mlink = 'http://www.dlsite.com/books/'\n",
    "\n",
    "fnkey = open('nkey.txt', 'r')\n",
    "#nkey = fnkey.readline()#key=作者\n",
    "\n",
    "###檔案化作列表\n",
    "nkey=list(fnkey)\n",
    "fnkey.close()\n",
    "\n",
    "def Q2B(ustring):\n",
    "    fs=u'０１２３４５６７８９ＱｑＷｗＥｅＲｒＴｔＹｙＵｕＩｉＯｏＰｐＡａＳｓＤｄＦｆＧｇＨｈＪｊＫｋＬｌＺｚＸｘＣｃＶｖＢｂＮｎＭｍ'\n",
    "    hs=u'0123456789QqWwEeRrTtYyUuIiOoPpAaSsDdFfGgHhJjKkLlZzXxCcVvBbNnMm'\n",
    "    rstr = ''\n",
    "    for tm in ustring:\n",
    "        if fs.find(tm)+1:\n",
    "            tm = hs[fs.find(tm)]\n",
    "        rstr = rstr + tm\n",
    "    ustring = rstr\n",
    "    ustring=ustring.lower()\n",
    "    return ustring\n",
    "\n",
    "\n",
    "####取出作者\n",
    "print nkey[1][:-1]\n",
    "key=nkey[1].decode('utf8')#[nkey[1].find(u'('):nkey[1].find(u')')]\n",
    "gkey=key[:key.find(u'(')]\n",
    "key=key[key.find(u'(')+1:key.find(u')')]\n",
    "print gkey,key,type(key)\n",
    "\n",
    "print '\\\\','/'\n",
    "\n",
    "fout = open('output/'+key + '_comiclistv1.txt', 'w')#寫入模式開檔\n",
    "#fout = open('/output/'+key.decode('utf-8') + '_comiclistv1.txt', 'w')#寫入模式開檔\n",
    "#fout = open(u'/out/'+key + u'_comiclistv1.txt', 'w')#寫入模式開檔\n",
    "fout.write('comiclist\\n')#comiclist\n",
    "fout.close()\n",
    "\n",
    "###逐字檢查，'unicode' type的b2\n",
    "b2=u'喔asd'*1\n",
    "print 'b2:',type(b2)\n",
    "for j in b2:\n",
    "    #print type(j)\n",
    "    #j2 = urllib.quote(j.decode('utf8'))#.encode('utf8'))\n",
    "    j2 = urllib.quote(j.encode('utf8'))\n",
    "    j3 = urllib.unquote(j2.decode('sjis').encode('utf8'))\n",
    "    print b2.find(j),'[[',j2,']][[',j3,']]'\n",
    "    time.sleep(.5)\n",
    "    #print '\\r',\n",
    "'''\n",
    "#當sjis輸出utf8的url\n",
    "key2 = urllib.quote(key.decode('utf8').encode('sjis'))\n",
    "#utf8的url翻sjis\n",
    "key3 = urllib.unquote(key2.decode('sjis').encode('utf8'))\n",
    "#'''\n",
    "###結尾\n",
    "#raw_input(\"\\nPress Any Key To Exit\")"
   ]
  }
 ],
 "metadata": {
  "kernelspec": {
   "display_name": "Python 2",
   "language": "python",
   "name": "python2"
  },
  "language_info": {
   "codemirror_mode": {
    "name": "ipython",
    "version": 2
   },
   "file_extension": ".py",
   "mimetype": "text/x-python",
   "name": "python",
   "nbconvert_exporter": "python",
   "pygments_lexer": "ipython2",
   "version": "2.7.10"
  }
 },
 "nbformat": 4,
 "nbformat_minor": 0
}
