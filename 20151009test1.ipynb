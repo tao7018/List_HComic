{
 "cells": [
  {
   "cell_type": "code",
   "execution_count": 2,
   "metadata": {
    "collapsed": false
   },
   "outputs": [
    {
     "name": "stdout",
     "output_type": "stream",
     "text": [
      " <type 'unicode'>\n",
      "0 [[ a ]][[ a ]] 1 [[ s ]][[ s ]] 2 [[ d ]][[ d ]] 3 [[ a ]][[ a ]] 4 [[ s ]][[ s ]] 5 [[ d ]][[ d ]] 6 [[ a ]][[ a ]] 7 [[ s ]][[ s ]] 8 [[ d ]][[ d ]]"
     ]
    },
    {
     "data": {
      "text/plain": [
       "\"\\n#\\xe7\\x95\\xb6sjis\\xe8\\xbc\\xb8\\xe5\\x87\\xbautf8\\xe7\\x9a\\x84url\\nj2 = urllib.quote(j.decode('utf8').encode('sjis'))\\n#utf8\\xe7\\x9a\\x84url\\xe7\\xbf\\xbbsjis\\nj3 = urllib.unquote(j2.decode('sjis').encode('utf8'))\\n#\""
      ]
     },
     "execution_count": 2,
     "metadata": {},
     "output_type": "execute_result"
    },
    {
     "name": "stdout",
     "output_type": "stream",
     "text": [
      "\n"
     ]
    }
   ],
   "source": [
    "import urllib , requests , sys ,string ,time\n",
    "from bs4 import BeautifulSoup\n",
    "from bs4 import SoupStrainer\n",
    "\n",
    "#頁顯示數量\n",
    "pnum = 30\n",
    "mlink = 'http://www.dlsite.com/books/'\n",
    "\n",
    "fkey = open('key.txt', 'r')\n",
    "key = fkey.readline()#key=作者\n",
    "fkey.close()\n",
    "def Q2B(ustring):\n",
    "    fs=u'０１２３４５６７８９ＱｑＷｗＥｅＲｒＴｔＹｙＵｕＩｉＯｏＰｐＡａＳｓＤｄＦｆＧｇＨｈＪｊＫｋＬｌＺｚＸｘＣｃＶｖＢｂＮｎＭｍ'\n",
    "    hs=u'0123456789QqWwEeRrTtYyUuIiOoPpAaSsDdFfGgHhJjKkLlZzXxCcVvBbNnMm'\n",
    "    rstr = ''\n",
    "    for tm in ustring:\n",
    "        if fs.find(tm)+1:\n",
    "            tm = hs[fs.find(tm)]\n",
    "        rstr = rstr + tm\n",
    "    ustring = rstr\n",
    "    ustring=ustring.lower()\n",
    "    return ustring\n",
    "\n",
    "\n",
    "\n",
    "\n",
    "###逐字檢查，b2\n",
    "b2=u'asd'*3\n",
    "n=0\n",
    "print type(b2)\n",
    "for j in b2:\n",
    "    #print type(j)\n",
    "    j2 = urllib.quote(j.encode('utf8'))\n",
    "    j3 = urllib.unquote(j2.decode('sjis').encode('utf8'))\n",
    "    print n,'[[',j2,']][[',j3,']]',\n",
    "    time.sleep(.5)\n",
    "    #print '\\r',\n",
    "    n=n+1\n",
    "'''\n",
    "#當sjis輸出utf8的url\n",
    "j2 = urllib.quote(j.decode('utf8').encode('sjis'))\n",
    "#utf8的url翻sjis\n",
    "j3 = urllib.unquote(j2.decode('sjis').encode('utf8'))\n",
    "#'''\n"
   ]
  }
 ],
 "metadata": {
  "kernelspec": {
   "display_name": "Python 2",
   "language": "python",
   "name": "python2"
  },
  "language_info": {
   "codemirror_mode": {
    "name": "ipython",
    "version": 2
   },
   "file_extension": ".py",
   "mimetype": "text/x-python",
   "name": "python",
   "nbconvert_exporter": "python",
   "pygments_lexer": "ipython2",
   "version": "2.7.10"
  }
 },
 "nbformat": 4,
 "nbformat_minor": 0
}
