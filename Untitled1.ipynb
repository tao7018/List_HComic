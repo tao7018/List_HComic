{
 "cells": [
  {
   "cell_type": "code",
   "execution_count": 10,
   "metadata": {
    "collapsed": false
   },
   "outputs": [
    {
     "name": "stdout",
     "output_type": "stream",
     "text": [
      "\n",
      "発売日：2015/12/17\n"
     ]
    }
   ],
   "source": [
    "# -*- coding: utf-8 -*- \n",
    "import urllib , requests , sys ,string ,time\n",
    "from bs4 import BeautifulSoup\n",
    "from bs4 import SoupStrainer\n",
    "\n",
    "#getchu\n",
    "#fkey作者來源key.txt\n",
    "#fcomiclist結果key_getchu.text\n",
    "\n",
    "#輸出格式：\n",
    "#getchu\n",
    "#!作者\n",
    "#!總筆數\n",
    "#==類別_數量_中文敘述\n",
    "#條目\n",
    "\n",
    "#頁顯示數量\n",
    "pnum = 30\n",
    "mlink = 'http://www.getchu.com/'\n",
    "\n",
    "fkey = open('key.txt', 'r')\n",
    "key = fkey.readline()#key=作者\n",
    "fkey.close()\n",
    "\n",
    "#key=作者\n",
    "key2 = urllib.quote(key.decode('utf8').encode('euc_jp'))\n",
    "key3 = urllib.unquote(key2.decode('euc_jp').encode('utf8'))\n",
    "#網址用\n",
    "key4 = urllib.quote(key)\n",
    "#print key4, '\\n' , urllib.quote(key.decode('sjis').encode('utf8')) \n",
    "\n",
    "#檢查BOM\n",
    "if '%EF%BB%BF' in urllib.quote(key):\n",
    "    print 'fuck ms'\n",
    "\n",
    "link = \"http://www.getchu.com/php/search.phtml?search_keyword=&search_title=&search_brand=&search_person=\" + urllib.quote(key3) + \"&search_jan=&search_isbn=&genre=all&start_date=&end_date=&age=&list_count=30&sort=sales&sort2=down&list_type=list&search=1&pageID=1\"\n",
    "\n",
    "head = {'User-agent':'Mozilla/5.0 (Windows NT 6.1; WOW64) AppleWebKit/537.36 (KHTML, like Gecko) Chrome/46.0.2490.86 Safari/537.36'}\n",
    "res = requests.get(link)#, headers = head)\n",
    "\n",
    "res.encoding =  res.apparent_encoding#亂碼處理\n",
    "only_a_tags = SoupStrainer(\"ul\", class_=\"display\")\n",
    "#(\"a\", class_=\"sister\")\n",
    "#soup = BeautifulSoup(res.text,\"html.parser\",  parse_only=only_a_tags)#.prettify()\n",
    "#print soup\n",
    "#soupp = str(soup)\n",
    "\n",
    "#soup = str(BeautifulSoup(res.text,\"html.parser\",  parse_only=only_a_tags))\n",
    "\n",
    "#souppp = BeautifulSoup(soupp,\"lxml\")\n",
    "soup = BeautifulSoup(str(BeautifulSoup(res.text,\"html.parser\",  parse_only=only_a_tags)),\"lxml\")\n",
    "print soup.select('.orangeb')[0].next_sibling.next_sibling\n",
    "#return soup"
   ]
  }
 ],
 "metadata": {
  "kernelspec": {
   "display_name": "Python 2",
   "language": "python",
   "name": "python2"
  },
  "language_info": {
   "codemirror_mode": {
    "name": "ipython",
    "version": 2
   },
   "file_extension": ".py",
   "mimetype": "text/x-python",
   "name": "python",
   "nbconvert_exporter": "python",
   "pygments_lexer": "ipython2",
   "version": "2.7.10"
  }
 },
 "nbformat": 4,
 "nbformat_minor": 0
}
