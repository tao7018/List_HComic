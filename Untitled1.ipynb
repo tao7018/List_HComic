{
 "cells": [
  {
   "cell_type": "code",
   "execution_count": 88,
   "metadata": {
    "collapsed": false
   },
   "outputs": [
    {
     "name": "stdout",
     "output_type": "stream",
     "text": [
      "�樹\n",
      "[1, 2, 3, 4, 5]\n",
      "('1989-3-7', '2010-1-5')\n",
      "num\n",
      "the brave o\n",
      "gallahad the pure\n",
      "<type 'str'> <type 'str'>\n",
      "robin the brave\n",
      "<type 'str'> <type 'str'>\n"
     ]
    }
   ],
   "source": [
    "# -*- coding: utf-8 -*- \n",
    "import urllib , requests , sys ,string\n",
    "from bs4 import SoupStrainer\n",
    "from bs4 import BeautifulSoup\n",
    "\n",
    "fkey = open('key.txt', 'r')\n",
    "key = fkey.readline()\n",
    "fkey.close()\n",
    "'''\n",
    "#檢查BOM\n",
    "if '%EF%BB%BF' in urllib.quote(key):\n",
    "    print 'fuck ms'\n",
    "\n",
    "link = \"http://comiclist.jp/index.php?p=s&mode=ss&keyword=\" + urllib.quote(key) + \"&type=title\"\n",
    "res = requests.get(link)\n",
    "res.encoding =  res.apparent_encoding\n",
    "\n",
    "#id='listBOX-search' ,\n",
    "only_a_tags = SoupStrainer(id='listArea')\n",
    "\n",
    "#爬蟲重點內容\n",
    "#print soup.select('#listBOX-search')[0].text\n",
    "\n",
    "\n",
    "\n",
    "#a = BeautifulSoup(res.text , \"html.parser\", parse_only=only_a_tags).prettify()\n",
    "a = BeautifulSoup(res.text ,\"html.parser\",  parse_only=only_a_tags)\n",
    "#print a\n",
    "'''\n",
    "arr=('2010-11-23','1989-3-7','2010-1-5','978-12-1','2010-2-4')\n",
    "a = [[2, 4, 3, 5, 1],['b','d','c','e','a']]\n",
    "print key[8:]\n",
    "ar = sorted(a[0])\n",
    "print ar\n",
    "#a[:][1].sort()\n",
    "print arr[1:3]\n",
    "num = 0\n",
    "e = 'num'\n",
    "b = {'one': 1, 'two': 2, 'three': 3,num:e}\n",
    "print b[0]\n",
    "\n",
    "print v, k[1] \n",
    "#knights = {'gallahad': 'the pure', 'robin': 'the brave'}\n",
    "\n",
    "for k, v in knights.iteritems():\n",
    "    print k, v\n",
    "    print type(k), type(v)"
   ]
  }
 ],
 "metadata": {
  "kernelspec": {
   "display_name": "Python 2",
   "language": "python",
   "name": "python2"
  },
  "language_info": {
   "codemirror_mode": {
    "name": "ipython",
    "version": 2
   },
   "file_extension": ".py",
   "mimetype": "text/x-python",
   "name": "python",
   "nbconvert_exporter": "python",
   "pygments_lexer": "ipython2",
   "version": "2.7.10"
  }
 },
 "nbformat": 4,
 "nbformat_minor": 0
}
