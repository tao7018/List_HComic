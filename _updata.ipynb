{
 "cells": [
  {
   "cell_type": "code",
   "execution_count": 74,
   "metadata": {
    "collapsed": false
   },
   "outputs": [
    {
     "name": "stdout",
     "output_type": "stream",
     "text": [
      "#\n",
      "4\n",
      "4\n",
      "4\n",
      "7\n",
      "9\n"
     ]
    }
   ],
   "source": [
    "# -*- coding: utf-8 -*- \n",
    "#import urllib , requests , sys\n",
    "#import test_m\n",
    "\n",
    "'''\n",
    "讀nkey\n",
    "for 蟲\n",
    "\n",
    "#doujishi\n",
    "main(key='木星在住',ucheck=2,pn=78,nlink='http://www.doujinshi.org/browse/author/36341/Mokusei-Zaijuu/')\n",
    "#'''\n",
    "\n",
    "#from b import test_m\n",
    "#print dir(comiclist)\n",
    "#print test_m.fib(500)\n",
    "#test_m.fib(500)\n",
    "#b(2)\n",
    "print '#'\n",
    "\n",
    "s = {\n",
    "    \"id\":1,\n",
    "    \"name\":\"hello\"\n",
    "}\n",
    "ss=['aa屋',\n",
    "    6,\n",
    "    s,'11','22','33','44','22','33','22'\n",
    "   ]\n",
    "#a,b,c=ss\n",
    "v=ss\n",
    "#print a,b,c['id'],v,type(a),type(a.decode('utf8')),len(a),len(a.decode('utf8'))\n",
    "print ss.index('22')\n",
    "print ss.index('22')\n",
    "for temp in range(ss.count('22')):\n",
    "    print ss.index('22')\n",
    "    ss[ss.index('22')]=''"
   ]
  },
  {
   "cell_type": "code",
   "execution_count": 76,
   "metadata": {
    "collapsed": false
   },
   "outputs": [
    {
     "name": "stdout",
     "output_type": "stream",
     "text": [
      "-- This parrot wouldn't voom if you put 1000 volts through it.\n",
      "-- Lovely plumage, the Norwegian Blue\n",
      "-- It's a stiff !\n",
      "-- This parrot wouldn't voom if you put 1000 volts through it.\n",
      "-- Lovely plumage, the Norwegian Blue\n",
      "-- It's a stiff !\n",
      "-- This parrot wouldn't VOOOOOM if you put 1000000 volts through it.\n",
      "-- Lovely plumage, the Norwegian Blue\n",
      "-- It's a stiff !\n",
      "-- This parrot wouldn't VOOOOOM if you put 1000000 volts through it.\n",
      "-- Lovely plumage, the Norwegian Blue\n",
      "-- It's a stiff !\n",
      "-- This parrot wouldn't jump if you put a million volts through it.\n",
      "-- Lovely plumage, the Norwegian Blue\n",
      "-- It's bereft of life !\n",
      "-- This parrot wouldn't voom if you put a thousand volts through it.\n",
      "-- Lovely plumage, the Norwegian Blue\n",
      "-- It's pushing up the daisies !\n"
     ]
    }
   ],
   "source": [
    "def parrot(voltage, state='a stiff', action='voom', type='Norwegian Blue'):\n",
    "    print \"-- This parrot wouldn't\", action,\n",
    "    print \"if you put\", voltage, \"volts through it.\"\n",
    "    print \"-- Lovely plumage, the\", type\n",
    "    print \"-- It's\", state, \"!\"\n",
    "#接受一个必选参数（voltage）和三个可选参数（state,action和type）。可以用下列任意一种方式调用这个函数：\n",
    "\n",
    "parrot(1000)                                          # 1 positional argument\n",
    "parrot(voltage=1000)                                  # 1 keyword argument\n",
    "parrot(voltage=1000000, action='VOOOOOM')             # 2 keyword arguments\n",
    "parrot(action='VOOOOOM', voltage=1000000)             # 2 keyword arguments\n",
    "parrot('a million', 'bereft of life', 'jump')         # 3 positional arguments\n",
    "parrot('a thousand', state='pushing up the daisies') \n",
    "for k in range(0):\n",
    "    print \"k\""
   ]
  }
 ],
 "metadata": {
  "kernelspec": {
   "display_name": "Python 2",
   "language": "python",
   "name": "python2"
  },
  "language_info": {
   "codemirror_mode": {
    "name": "ipython",
    "version": 2
   },
   "file_extension": ".py",
   "mimetype": "text/x-python",
   "name": "python",
   "nbconvert_exporter": "python",
   "pygments_lexer": "ipython2",
   "version": "2.7.10"
  }
 },
 "nbformat": 4,
 "nbformat_minor": 0
}
