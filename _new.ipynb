{
 "cells": [
  {
   "cell_type": "code",
   "execution_count": 2,
   "metadata": {
    "collapsed": false
   },
   "outputs": [
    {
     "name": "stdout",
     "output_type": "stream",
     "text": [
      "符合筆數1_作品筆數78\n",
      "BIG\n",
      "木星在住 78 num\n",
      "========v1\n",
      "page:1\n",
      "50 .\n",
      "page:2\n",
      "28 .\n",
      "ok\n",
      "3 .. 2 .. 1 ..\n"
     ]
    }
   ],
   "source": [
    "# -*- coding: utf-8 -*- \n",
    "import urllib , requests , sys , string   ,time , os\n",
    "from bs4 import BeautifulSoup\n",
    "from bs4 import SoupStrainer\n",
    "from time import gmtime , strftime\n",
    "\n",
    "#import test_m\n",
    "import doujishi\n",
    "#key=''_ucheck=0\n",
    "\n",
    "fkey = open('key.txt', 'r')\n",
    "nkey=list(fkey)\n",
    "#key = fkey.readline()#key=作者\n",
    "fkey.close()\n",
    "\n",
    "for key in nkey:\n",
    "    #key = nkey[0]\n",
    "    if '(' in key:\n",
    "        key=key[key.find('(')+1:key.find(')')]\n",
    "    key=key.strip('\\n').strip('').lower()\n",
    "    doujishi.main(key)\n",
    "\n",
    "\n"
   ]
  }
 ],
 "metadata": {
  "kernelspec": {
   "display_name": "Python 2",
   "language": "python",
   "name": "python2"
  },
  "language_info": {
   "codemirror_mode": {
    "name": "ipython",
    "version": 2
   },
   "file_extension": ".py",
   "mimetype": "text/x-python",
   "name": "python",
   "nbconvert_exporter": "python",
   "pygments_lexer": "ipython2",
   "version": "2.7.10"
  }
 },
 "nbformat": 4,
 "nbformat_minor": 0
}
