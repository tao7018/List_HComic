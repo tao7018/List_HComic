{
 "cells": [
  {
   "cell_type": "code",
   "execution_count": 10,
   "metadata": {
    "collapsed": false
   },
   "outputs": [
    {
     "name": "stdout",
     "output_type": "stream",
     "text": [
      "\n",
      "10 件中 1 － 10 のデータを表示します\n",
      "\n",
      "<div class=\"search_page_link_info\">\n",
      "<font color=\"#dd0000\"><b>10</b></font> 件中 <font color=\"#dd0000\"><b>1</b></font> － <font color=\"#dd0000\"><b>10</b></font> のデータを表示します<br/>\n",
      "</div>\n",
      "（成）絶対隷母\n",
      "（成）噂の奥さん、ド変態！　－人妻・響子とシませんか？－\n",
      "（成）天然交母\n",
      "（成）羞恥肉林\n",
      "（成）痴女～派\n",
      "（成）ママごと\n",
      "クリーム\n",
      "（成）ＤＥＥＰ\n",
      "（成）母淫妻（ボインヅマ）\n",
      "（成）ＳＨＡＫＥ\n"
     ]
    }
   ],
   "source": [
    "# -*- coding: utf-8 -*- \n",
    "import urllib , requests , sys\n",
    "from bs4 import BeautifulSoup\n",
    "\n",
    "#爬comiclist\n",
    "#key=作者\n",
    "key = '沢田大介'\n",
    "\n",
    "res = requests.get(\"http://comiclist.jp/index.php?p=s&mode=ss&keyword=%E6%B2%A2%E7%94%B0%E5%A4%A7%E4%BB%8B&type=title\")\n",
    "#亂碼處理\n",
    "res.encoding =  res.apparent_encoding\n",
    "soup = BeautifulSoup(res.text)\n",
    "\n",
    "a = 0\n",
    "print soup.select('.search_page_link_info')[1].text\n",
    "print soup.select('.search_page_link_info')[1]\n",
    "'''\n",
    "for \"list-line\" in soup.select('td[class^=\"list-line&nbsp;list-book\"]'):\n",
    "#for tr in soup.select('tr'):\n",
    "    b = a * 18 + 3\n",
    "    \n",
    "    #print soup.select('.More Info')\n",
    "    print soup.select('strong')\n",
    "    #print soup.select('.thumbnail')[a]\n",
    "'''\n",
    "\n",
    "for strong in soup.select('strong'):\n",
    "#while soup.select('strong')[a]:\n",
    "#while soup.select('td[class^=\"list-line\"]')[a]:\n",
    "    print soup.select('strong')[a].text\n",
    "    a = a + 1\n",
    "\n",
    "\n",
    "\n",
    "#print soup.select('td[class^=\"list-line\"]')\n",
    "#print res.text\n"
   ]
  }
 ],
 "metadata": {
  "kernelspec": {
   "display_name": "Python 2",
   "language": "python",
   "name": "python2"
  },
  "language_info": {
   "codemirror_mode": {
    "name": "ipython",
    "version": 2
   },
   "file_extension": ".py",
   "mimetype": "text/x-python",
   "name": "python",
   "nbconvert_exporter": "python",
   "pygments_lexer": "ipython2",
   "version": "2.7.10"
  }
 },
 "nbformat": 4,
 "nbformat_minor": 0
}
