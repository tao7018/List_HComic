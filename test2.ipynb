{
 "cells": [
  {
   "cell_type": "code",
   "execution_count": 2,
   "metadata": {
    "collapsed": false
   },
   "outputs": [
    {
     "name": "stdout",
     "output_type": "stream",
     "text": [
      "ascii\n",
      "1一: 桜木HAL\n",
      "2二: 桜木HAL\n"
     ]
    }
   ],
   "source": [
    "# -*- coding: utf-8 -*- \n",
    "import urllib , requests , sys ,string ,time\n",
    "from bs4 import BeautifulSoup\n",
    "from bs4 import SoupStrainer\n",
    "\n",
    "#comiclist\n",
    "#fkey作者來源key.txt\n",
    "#fcomiclist結果key_comiclist.text\n",
    "\n",
    "#輸出格式：\n",
    "#comiclist\n",
    "#!作者\n",
    "#!總筆數\n",
    "#==類別_數量_中文敘述\n",
    "#條目\n",
    "\n",
    "#comiclist常數\n",
    "pnum = 30#頁顯示數量\n",
    "mlink = 'http://comiclist.jp/'#前綴網址\n",
    "\n",
    "fkey = open('key.txt', 'r')\n",
    "key = fkey.readline()#key=作者\n",
    "fkey.close()\n",
    "\n",
    "#key.encoding =  key.apparent_encoding\n",
    "print sys.getdefaultencoding()\n",
    "print '1一:',key\n",
    "print u'2二:',key.decode('utf8')\n",
    "\n",
    "\n",
    "#raw_input(\"\\nPress Any Key To Exit\")"
   ]
  }
 ],
 "metadata": {
  "kernelspec": {
   "display_name": "Python 2",
   "language": "python",
   "name": "python2"
  },
  "language_info": {
   "codemirror_mode": {
    "name": "ipython",
    "version": 2
   },
   "file_extension": ".py",
   "mimetype": "text/x-python",
   "name": "python",
   "nbconvert_exporter": "python",
   "pygments_lexer": "ipython2",
   "version": "2.7.10"
  }
 },
 "nbformat": 4,
 "nbformat_minor": 0
}
