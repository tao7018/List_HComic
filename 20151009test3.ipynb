{
 "cells": [
  {
   "cell_type": "code",
   "execution_count": 88,
   "metadata": {
    "collapsed": false
   },
   "outputs": [
    {
     "ename": "NameError",
     "evalue": "name 'link' is not defined",
     "output_type": "error",
     "traceback": [
      "\u001b[1;31m---------------------------------------------------------------------------\u001b[0m",
      "\u001b[1;31mNameError\u001b[0m                                 Traceback (most recent call last)",
      "\u001b[1;32m<ipython-input-88-cd85e52249c0>\u001b[0m in \u001b[0;36m<module>\u001b[1;34m()\u001b[0m\n\u001b[0;32m     26\u001b[0m \u001b[1;31m#for More\\bInfo in soup.find_all(title='More Info')\u001b[0m\u001b[1;33m\u001b[0m\u001b[1;33m\u001b[0m\u001b[0m\n\u001b[0;32m     27\u001b[0m \u001b[0mff\u001b[0m \u001b[1;33m=\u001b[0m \u001b[0msoup\u001b[0m\u001b[1;33m.\u001b[0m\u001b[0mfind_all\u001b[0m\u001b[1;33m(\u001b[0m\u001b[0mtitle\u001b[0m\u001b[1;33m=\u001b[0m\u001b[1;34m'More Info'\u001b[0m\u001b[1;33m)\u001b[0m\u001b[1;33m\u001b[0m\u001b[0m\n\u001b[1;32m---> 28\u001b[1;33m \u001b[1;32mprint\u001b[0m \u001b[0mlink\u001b[0m\u001b[1;33m.\u001b[0m\u001b[0mget\u001b[0m\u001b[1;33m(\u001b[0m\u001b[1;34m'href'\u001b[0m\u001b[1;33m)\u001b[0m\u001b[1;33m\u001b[0m\u001b[0m\n\u001b[0m\u001b[0;32m     29\u001b[0m \u001b[1;33m\u001b[0m\u001b[0m\n\u001b[0;32m     30\u001b[0m '''\n",
      "\u001b[1;31mNameError\u001b[0m: name 'link' is not defined"
     ]
    }
   ],
   "source": [
    "import requests\n",
    "from bs4 import BeautifulSoup\n",
    "\n",
    "#爬doujinshi\n",
    "#r = requests.get(\"http://www.doujinshi.org/?LANG=2\")\n",
    "res = requests.get(\"http://www.doujinshi.org/browse/author/3067/Mita-Kurumi/\")\n",
    "soup = BeautifulSoup(res.text)\n",
    "#print soup.text\n",
    "#print soup.select('.bookinfo')[0].text\n",
    "a = 0\n",
    "base = 'http://www.doujinshi.org'\n",
    "\n",
    "'''\n",
    "for bookinfo in soup.select('.bookinfo'):\n",
    "    b = a * 18 + 3\n",
    "    \n",
    "    print soup.select('.More Info')\n",
    "    #print soup.select('.tab')[b]\n",
    "    #print soup.select('.thumbnail')[a]\n",
    "    a = a + 1\n",
    "    if a >= 10:\n",
    "        break\n",
    "'''\n",
    "\n",
    "ss = soup.select('span > a')\n",
    "#for More\\bInfo in soup.find_all(title='More Info')\n",
    "ff = soup.find_all(title='More Info')\n",
    "print link.get('href')\n",
    "\n",
    "'''\n",
    "while a < 10:\n",
    "    #一組div含18tab\n",
    "    b = a * 18 + 3\n",
    "    print soup.select('.tab')[b].text\n",
    "    #print soup.select('.thumbnail')[a]\n",
    "    print soup.select('a')[a]\n",
    "    #book = base + \n",
    "    a = a + 1\n",
    "'''"
   ]
  }
 ],
 "metadata": {
  "kernelspec": {
   "display_name": "Python 2",
   "language": "python",
   "name": "python2"
  },
  "language_info": {
   "codemirror_mode": {
    "name": "ipython",
    "version": 2
   },
   "file_extension": ".py",
   "mimetype": "text/x-python",
   "name": "python",
   "nbconvert_exporter": "python",
   "pygments_lexer": "ipython2",
   "version": "2.7.10"
  }
 },
 "nbformat": 4,
 "nbformat_minor": 0
}
