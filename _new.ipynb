{
 "cells": [
  {
   "cell_type": "code",
   "execution_count": 6,
   "metadata": {
    "collapsed": false
   },
   "outputs": [
    {
     "name": "stdout",
     "output_type": "stream",
     "text": [
      "木星在住\n",
      "==daito-i 24 筆\n",
      "page:0\n",
      "0 .\n",
      "ok\n"
     ]
    },
    {
     "name": "stderr",
     "output_type": "stream",
     "text": [
      "daito_i.py:136: UnicodeWarning: Unicode unequal comparison failed to convert both arguments to Unicode - interpreting them as being unequal\n",
      "  if key.decode('utf8') != cname:#多作者\n"
     ]
    }
   ],
   "source": [
    "# -*- coding: utf-8 -*- \n",
    "import urllib , requests , sys , string   ,time , os\n",
    "from bs4 import BeautifulSoup\n",
    "from bs4 import SoupStrainer\n",
    "from time import gmtime , strftime\n",
    "\n",
    "\n",
    "import doujishi\n",
    "import comiclist\n",
    "import daito_i\n",
    "#key=''_ucheck=0\n",
    "\n",
    "fkey = open('key.txt', 'r')\n",
    "nkey=list(fkey)\n",
    "#key = fkey.readline()#key=作者\n",
    "fkey.close()\n",
    "\n",
    "\n",
    "for key in nkey:\n",
    "    #key = nkey[0]\n",
    "    print key\n",
    "    if '(' in key:\n",
    "        key=key[key.find('(')+1:key.find(')')]\n",
    "    key=key.strip('\\n').strip('').lower()\n",
    "    #doujishi.main(key)\n",
    "    #comiclist.main(key)\n",
    "    daito_i.main(key)\n",
    "\n",
    "\n"
   ]
  },
  {
   "cell_type": "code",
   "execution_count": 5,
   "metadata": {
    "collapsed": false
   },
   "outputs": [
    {
     "name": "stdout",
     "output_type": "stream",
     "text": [
      "a\n"
     ]
    }
   ],
   "source": [
    "\n",
    "def a_a():\n",
    "    print 'a'\n",
    "\n",
    "a_a()"
   ]
  }
 ],
 "metadata": {
  "kernelspec": {
   "display_name": "Python 2",
   "language": "python",
   "name": "python2"
  },
  "language_info": {
   "codemirror_mode": {
    "name": "ipython",
    "version": 2
   },
   "file_extension": ".py",
   "mimetype": "text/x-python",
   "name": "python",
   "nbconvert_exporter": "python",
   "pygments_lexer": "ipython2",
   "version": "2.7.10"
  }
 },
 "nbformat": 4,
 "nbformat_minor": 0
}
