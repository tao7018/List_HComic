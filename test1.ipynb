{
 "cells": [
  {
   "cell_type": "code",
   "execution_count": 5,
   "metadata": {
    "collapsed": false
   },
   "outputs": [
    {
     "name": "stdout",
     "output_type": "stream",
     "text": [
      "freelife(Hamao)\n",
      "\\ /\n",
      "b2: <type 'unicode'>\n",
      "<type 'unicode'> <type 'str'> <type 'str'>\n",
      "0 [[ %E9%BB%92 ]][[ 黒 ]][[ 黒 ]]\n",
      "<type 'unicode'> <type 'str'> <type 'str'>\n",
      "1 [[ %E7%8A%AC ]][[ 犬 ]][[ 犬 ]]\n",
      "<type 'unicode'> <type 'str'> <type 'str'>\n",
      "2 [[ %E7%8D%A3 ]][[ 獣 ]][[ 獣 ]]\n"
     ]
    },
    {
     "data": {
      "text/plain": [
       "'\\n##\\xe6\\x99\\x82\\xe9\\x96\\x93\\nprint time.localtime(time.time())\\nprint  time.asctime( time.localtime(time.time()) )\\n#print time.strptime(\"30 Nov 00\", \"%d %b %y\")   \\nprint gmtime()\\nprint strftime(\"%a, %d %b %Y %H:%M:%S +0000\", gmtime())\\n#print time.localtime(time.time())\\nprint strftime(\"%a, %d %b %Y %H:%M:%S +0000\", time.localtime(time.time()))\\nprint strftime(\"%a, %d %b %Y %H:%M:%S +0000\")\\nprint strftime(\"%Y/%m/%d,%H:%M\")\\nprint strftime(\"%H:%M\")\\n#'"
      ]
     },
     "execution_count": 5,
     "metadata": {},
     "output_type": "execute_result"
    }
   ],
   "source": [
    "# -*- coding: utf-8 -*- \n",
    "import urllib , requests , sys ,string ,time\n",
    "from bs4 import BeautifulSoup\n",
    "from bs4 import SoupStrainer\n",
    "from time import gmtime, strftime\n",
    "\n",
    "def Q2B(ustring):\n",
    "    fs=u'０１２３４５６７８９ＱｑＷｗＥｅＲｒＴｔＹｙＵｕＩｉＯｏＰｐＡａＳｓＤｄＦｆＧｇＨｈＪｊＫｋＬｌＺｚＸｘＣｃＶｖＢｂＮｎＭｍ'\n",
    "    hs=u'0123456789QqWwEeRrTtYyUuIiOoPpAaSsDdFfGgHhJjKkLlZzXxCcVvBbNnMm'\n",
    "    rstr = ''\n",
    "    for tm in ustring:\n",
    "        if fs.find(tm)+1:\n",
    "            tm = hs[fs.find(tm)]\n",
    "        rstr = rstr + tm\n",
    "    ustring = rstr\n",
    "    ustring=ustring.lower()\n",
    "    return ustring\n",
    "\n",
    "def endp()\n",
    "    #結束讀秒\n",
    "    x=3\n",
    "    while x!=0:\n",
    "        print x,'..',\n",
    "        x=x-1\n",
    "        time.sleep(1)\n",
    "    raw_input(\"\\nPress Any Key To Exit\")\n",
    "print '\\\\','/'\n",
    "\n",
    "print nkey[1][:-1]\n",
    "key=nkey[1].decode('utf8')#[nkey[1].find(u'('):nkey[1].find(u')')]\n",
    "gkey=key[:key.find(u'(')]\n",
    "key=key[key.find(u'(')+1:key.find(u')')]\n",
    "#print gkey,key,type(key)\n",
    "fout = open('output/'+key + '_comiclistv1.txt', 'w')#寫入模式開檔\n",
    "#fout = open('/output/'+key.decode('utf-8') + '_comiclistv1.txt', 'w')#寫入模式開檔\n",
    "#fout = open(u'/out/'+key + u'_comiclistv1.txt', 'w')#寫入模式開檔\n",
    "fout.write('comiclist\\n')#comiclist\n",
    "fout.close()\n",
    "\n",
    "###逐字檢查，'unicode' type的b2\n",
    "b2=u'黒犬獣'*1\n",
    "print 'b2:',type(b2)\n",
    "for j in b2:\n",
    "    \n",
    "    #j2 = urllib.quote(j.decode('utf8'))#.encode('utf8'))\n",
    "    j2 = urllib.quote(j.encode('utf8'))\n",
    "    j3 = urllib.unquote(j2.decode('sjis').encode('utf8'))\n",
    "    print type(j),type(j2),type(j3)\n",
    "    print b2.find(j),'[[',j2,']][[',j3,']][[',j,']]'\n",
    "    time.sleep(.5)\n",
    "    #print '\\r',\n",
    "'''\n",
    "#當sjis輸出utf8的url\n",
    "key2 = urllib.quote(key.decode('utf8').encode('sjis'))\n",
    "#utf8的url翻sjis\n",
    "key3 = urllib.unquote(key2.decode('sjis').encode('utf8'))\n",
    "#'''\n",
    "\n",
    "\n",
    "\n",
    "'''\n",
    "##時間\n",
    "print time.localtime(time.time())\n",
    "print  time.asctime( time.localtime(time.time()) )\n",
    "#print time.strptime(\"30 Nov 00\", \"%d %b %y\")   \n",
    "print gmtime()\n",
    "print strftime(\"%a, %d %b %Y %H:%M:%S +0000\", gmtime())\n",
    "#print time.localtime(time.time())\n",
    "print strftime(\"%a, %d %b %Y %H:%M:%S +0000\", time.localtime(time.time()))\n",
    "print strftime(\"%a, %d %b %Y %H:%M:%S +0000\")\n",
    "print strftime(\"%Y/%m/%d,%H:%M\")\n",
    "print strftime(\"%H:%M\")\n",
    "#'''"
   ]
  }
 ],
 "metadata": {
  "kernelspec": {
   "display_name": "Python 2",
   "language": "python",
   "name": "python2"
  },
  "language_info": {
   "codemirror_mode": {
    "name": "ipython",
    "version": 2
   },
   "file_extension": ".py",
   "mimetype": "text/x-python",
   "name": "python",
   "nbconvert_exporter": "python",
   "pygments_lexer": "ipython2",
   "version": "2.7.10"
  }
 },
 "nbformat": 4,
 "nbformat_minor": 0
}
