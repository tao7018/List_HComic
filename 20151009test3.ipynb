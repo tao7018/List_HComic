{
 "cells": [
  {
   "cell_type": "code",
   "execution_count": 2,
   "metadata": {
    "collapsed": false
   },
   "outputs": [
    {
     "name": "stdout",
     "output_type": "stream",
     "text": [
      "<span class=\"tab LPEXACT1\">し\n",
      "た\n",
      "い\n",
      "?</span>\n",
      "<span class=\"thumbnail\"><a href=\"/book/363176/\" title=\"More Info\"><img alt=\"cover\" src=\"//img.doujinshi.org/adult.png\"/></a></span>\n",
      "<span class=\"tab LPEXACT1\">るいさんのおっぱいのさらに奥</span>\n",
      "<span class=\"thumbnail\"><a href=\"/book/402036/\" title=\"More Info\"><img alt=\"cover\" src=\"//img.doujinshi.org/adult.png\"/></a></span>\n",
      "<span class=\"tab LPEXACT1\">し た い ? 3</span>\n",
      "<span class=\"thumbnail\"><a href=\"/book/406942/\" title=\"More Info\"><img alt=\"cover\" src=\"//img.doujinshi.org/tn/203/406942.jpg\"/></a></span>\n",
      "<span class=\"tab LPEXACT1\">おっぱいで秘書艦ご指名ください</span>\n",
      "<span class=\"thumbnail\"><a href=\"/book/836577/\" title=\"More Info\"><img alt=\"cover\" src=\"//img.doujinshi.org/adult.png\"/></a></span>\n",
      "<span class=\"tab LPEXACT1\">先輩もおねぇさんもせーえきで待ってる</span>\n",
      "<span class=\"thumbnail\"><a href=\"/book/525726/\" title=\"More Info\"><img alt=\"cover\" src=\"//img.doujinshi.org/adult.png\"/></a></span>\n",
      "<span class=\"tab LPEXACT1\">欲情エロスーツ</span>\n",
      "<span class=\"thumbnail\"><a href=\"/book/557017/\" title=\"More Info\"><img alt=\"cover\" src=\"//img.doujinshi.org/adult.png\"/></a></span>\n",
      "<span class=\"tab LPEXACT1\">肉欲受け止めボディ</span>\n",
      "<span class=\"thumbnail\"><a href=\"/book/596078/\" title=\"More Info\"><img alt=\"cover\" src=\"//img.doujinshi.org/adult.png\"/></a></span>\n",
      "<span class=\"tab LPEXACT1\">落ちた聖女</span>\n",
      "<span class=\"thumbnail\"><a href=\"/book/613699/\" title=\"More Info\"><img alt=\"cover\" src=\"//img.doujinshi.org/adult.png\"/></a></span>\n",
      "<span class=\"tab LPEXACT1\">バイブでメルダを尋問してみた</span>\n",
      "<span class=\"thumbnail\"><a href=\"/book/627280/\" title=\"More Info\"><img alt=\"cover\" src=\"//img.doujinshi.org/adult.png\"/></a></span>\n",
      "<span class=\"tab LPEXACT1\">専用おっぱいナース2199</span>\n",
      "<span class=\"thumbnail\"><a href=\"/book/670136/\" title=\"More Info\"><img alt=\"cover\" src=\"//img.doujinshi.org/adult.png\"/></a></span>\n"
     ]
    },
    {
     "data": {
      "text/plain": [
       "\"\\n\\nss = soup.select('span > a')\\n#for More\\x08Info in soup.find_all(title='More Info')\\nff = soup.find_all(title='More Info')\\nprint link.get('href')\\n\\n\\nwhile a < 10:\\n    #\\xe4\\xb8\\x80\\xe7\\xb5\\x84div\\xe5\\x90\\xab18tab\\n    b = a * 18 + 3\\n    print soup.select('.tab')[b].text\\n    #print soup.select('.thumbnail')[a]\\n    print soup.select('a')[a]\\n    #book = base + \\n    a = a + 1\\n\""
      ]
     },
     "execution_count": 2,
     "metadata": {},
     "output_type": "execute_result"
    }
   ],
   "source": [
    "import requests\n",
    "from bs4 import BeautifulSoup\n",
    "\n",
    "#爬doujinshi\n",
    "#r = requests.get(\"http://www.doujinshi.org/?LANG=2\")\n",
    "res = requests.get(\"http://www.doujinshi.org/browse/author/3067/Mita-Kurumi/\")\n",
    "#亂碼處理\n",
    "res.encoding =  res.apparent_encoding\n",
    "soup = BeautifulSoup(res.text)\n",
    "#print soup.text\n",
    "#print soup.select('.bookinfo')[0].text\n",
    "a = 0\n",
    "base = 'http://www.doujinshi.org'\n",
    "\n",
    "\n",
    "for bookinfo in soup.select('.bookinfo'):\n",
    "    b = a * 18 + 3\n",
    "    \n",
    "    #print soup.select('.More Info')\n",
    "    print soup.select('.tab')[b]\n",
    "    print soup.select('.thumbnail')[a]\n",
    "    a = a + 1\n",
    "    if a >= 10:\n",
    "        break\n",
    "'''\n",
    "\n",
    "ss = soup.select('span > a')\n",
    "#for More\\bInfo in soup.find_all(title='More Info')\n",
    "ff = soup.find_all(title='More Info')\n",
    "print link.get('href')\n",
    "\n",
    "\n",
    "while a < 10:\n",
    "    #一組div含18tab\n",
    "    b = a * 18 + 3\n",
    "    print soup.select('.tab')[b].text\n",
    "    #print soup.select('.thumbnail')[a]\n",
    "    print soup.select('a')[a]\n",
    "    #book = base + \n",
    "    a = a + 1\n",
    "'''"
   ]
  }
 ],
 "metadata": {
  "kernelspec": {
   "display_name": "Python 2",
   "language": "python",
   "name": "python2"
  },
  "language_info": {
   "codemirror_mode": {
    "name": "ipython",
    "version": 2
   },
   "file_extension": ".py",
   "mimetype": "text/x-python",
   "name": "python",
   "nbconvert_exporter": "python",
   "pygments_lexer": "ipython2",
   "version": "2.7.10"
  }
 },
 "nbformat": 4,
 "nbformat_minor": 0
}
