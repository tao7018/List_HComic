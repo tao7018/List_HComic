{
 "cells": [
  {
   "cell_type": "code",
   "execution_count": 13,
   "metadata": {
    "collapsed": false
   },
   "outputs": [
    {
     "name": "stdout",
     "output_type": "stream",
     "text": [
      "<div class=\"bookinfo\">\n",
      "<span class=\"tab L0\"><b>Romanized:</b></span>\n",
      "<span class=\"tab LPEXACT1\"></span>\n",
      "<br/>\n",
      "<span class=\"tab L0\"><b>Original:</b></span>\n",
      "<span class=\"tab LPEXACT1\">先輩もおねぇさんもせーえきで待ってる</span>\n",
      "<br/>\n",
      "<span class=\"tab L0\"><b>CIRCLE:</b></span>\n",
      "<span class=\"tab LPEXACT1\">Kurumi Namiki</span>\n",
      "<br/>\n",
      "<span class=\"tab L0\"><b>AUTHOR:</b></span>\n",
      "<span class=\"tab LPEXACT1\">Mita Kurumi</span>\n",
      "<br/>\n",
      "<span class=\"tab L0\"><b>PARODY:</b></span>\n",
      "<span class=\"tab LPEXACT1\">Waiting in the Summer</span>\n",
      "<br/>\n",
      "<span class=\"tab L0\"><b>TYPE:</b></span>\n",
      "<span class=\"tab LPEXACT1\">Doujinshi</span>\n",
      "<span class=\"tab L33\"><b>PAGES:</b> 20</span>\n",
      "<span class=\"tab L66\"><b>18+:</b> Yes</span>\n",
      "<br/>\n",
      "<span class=\"tab L0\"><b>SCORE:</b></span>\n",
      "<span class=\"tab LPEXACT1\">- (0)</span>\n",
      "<span class=\"tab L33\"><b>DATE:</b> 2012-08-12</span>\n",
      "<span class=\"tab L66\"><b>MODIFIED:</b> 2012-08-16</span>\n",
      "</div>\n"
     ]
    }
   ],
   "source": [
    "import requests\n",
    "from bs4 import BeautifulSoup\n",
    "res = requests.get(\"http://www.doujinshi.org/browse/author/3067/Mita-Kurumi/\")\n",
    "soup = BeautifulSoup(res.text)\n",
    "#print soup.text\n",
    "print soup.select('.bookinfo')[4]\n"
   ]
  }
 ],
 "metadata": {
  "kernelspec": {
   "display_name": "Python 2",
   "language": "python",
   "name": "python2"
  },
  "language_info": {
   "codemirror_mode": {
    "name": "ipython",
    "version": 2
   },
   "file_extension": ".py",
   "mimetype": "text/x-python",
   "name": "python",
   "nbconvert_exporter": "python",
   "pygments_lexer": "ipython2",
   "version": "2.7.10"
  }
 },
 "nbformat": 4,
 "nbformat_minor": 0
}
