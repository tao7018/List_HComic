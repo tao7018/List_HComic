{
 "cells": [
  {
   "cell_type": "code",
   "execution_count": 8,
   "metadata": {
    "collapsed": false
   },
   "outputs": [
    {
     "name": "stdout",
     "output_type": "stream",
     "text": [
      "freelife(Hamao)\n",
      "A・L・L(アズマサワヨシ)\n",
      "たくみ屋 (ごばん) 3\n",
      "3 .. 2 .. 1 ..\n"
     ]
    }
   ],
   "source": [
    "# -*- coding: utf-8 -*- \n",
    "import urllib , requests , sys ,string ,time\n",
    "from bs4 import BeautifulSoup\n",
    "from bs4 import SoupStrainer\n",
    "from time import gmtime, strftime\n",
    "\n",
    "#daito-i\n",
    "#fkey作者來源key.txt\n",
    "#fcomiclist結果key_daito-i.text\n",
    "\n",
    "#輸出格式：\n",
    "#daito-i\n",
    "#!作者\n",
    "#!總筆數\n",
    "#==類別_數量_中文敘述\n",
    "#條目\n",
    "#!網址\n",
    "\n",
    "#comiclist常數\n",
    "pnum = 30#頁顯示數量\n",
    "mlink = 'http://www.daito-i.com/top/'#前綴網址\n",
    "\n",
    "fnkey = open('nkey.txt', 'r')\n",
    "#nkey = fnkey.readline()#key=作者\n",
    "\n",
    "\n",
    "a=list(fnkey)\n",
    "#for line in fnkey:\n",
    "for line in a:\n",
    "    print line,\n",
    "\n",
    "\n",
    "fnkey.close()\n",
    "\n",
    "#print nkey\n",
    "print len(a)\n",
    "\n",
    "#結束讀秒\n",
    "x=3\n",
    "while x!=0:\n",
    "    print x,'..',\n",
    "    x=x-1\n",
    "    time.sleep(1)\n",
    "#raw_input(\"\\nPress Any Key To Exit\")"
   ]
  }
 ],
 "metadata": {
  "kernelspec": {
   "display_name": "Python 2",
   "language": "python",
   "name": "python2"
  },
  "language_info": {
   "codemirror_mode": {
    "name": "ipython",
    "version": 2
   },
   "file_extension": ".py",
   "mimetype": "text/x-python",
   "name": "python",
   "nbconvert_exporter": "python",
   "pygments_lexer": "ipython2",
   "version": "2.7.10"
  }
 },
 "nbformat": 4,
 "nbformat_minor": 0
}
